{
 "cells": [
  {
   "cell_type": "markdown",
   "metadata": {},
   "source": [
    "# Fashion MNISTデータセットの学習(CNN手法)"
   ]
  },
  {
   "cell_type": "markdown",
   "metadata": {},
   "source": [
    "モジュールのインポート"
   ]
  },
  {
   "cell_type": "code",
   "execution_count": 1,
   "metadata": {},
   "outputs": [],
   "source": [
    "from time import time   # 時間計測を行うモジュール\n",
    "\n",
    "import numpy as np      # Pythonで配列を扱うためのモジュール\n",
    "import torch            # 深層学習のモジュール（PyTorch）\n",
    "import torch.nn as nn\n",
    "\n",
    "import torchvision      # PyTorchで画像認識に使用するネットワークやデータセットを利用するためのモジュール\n",
    "import torchvision.transforms as transforms\n",
    "import torchvision.datasets as datasets\n",
    "from torchvision.transforms import ToTensor\n",
    "\n",
    "import torchsummary     # PyTorchで作成したネットワークモデルの詳細を表示するモジュール"
   ]
  },
  {
   "cell_type": "markdown",
   "metadata": {},
   "source": [
    "グラボが使用可能かどうかの確認"
   ]
  },
  {
   "cell_type": "code",
   "execution_count": 2,
   "metadata": {},
   "outputs": [
    {
     "name": "stdout",
     "output_type": "stream",
     "text": [
      "True\n"
     ]
    }
   ],
   "source": [
    "use_cuda = torch.cuda.is_available()\n",
    "print(use_cuda)"
   ]
  },
  {
   "cell_type": "markdown",
   "metadata": {},
   "source": [
    "データセットの読み込みとニューラルネットワーク用への調整"
   ]
  },
  {
   "cell_type": "code",
   "execution_count": 3,
   "metadata": {},
   "outputs": [
    {
     "name": "stdout",
     "output_type": "stream",
     "text": [
      "<class 'torch.Tensor'> <class 'torch.Tensor'>\n",
      "<class 'torch.Tensor'> <class 'torch.Tensor'>\n",
      "torch.Size([60000, 28, 28]) torch.Size([60000])\n",
      "torch.Size([10000, 28, 28]) torch.Size([10000])\n"
     ]
    }
   ],
   "source": [
    "Batch_size = 100\n",
    "\n",
    "training_data = datasets.FashionMNIST(\n",
    "    root=\"../data\",\n",
    "    train=True,\n",
    "    download=True,\n",
    "    transform=ToTensor()\n",
    ")\n",
    "\n",
    "test_data = datasets.FashionMNIST(\n",
    "    root=\"../data\",\n",
    "    train=False,\n",
    "    download=True,\n",
    "    transform=ToTensor()\n",
    ")\n",
    "\n",
    "train_dataloader = torch.utils.data.DataLoader(training_data, batch_size=Batch_size, shuffle=True)\n",
    "test_dataloader = torch.utils.data.DataLoader(test_data, batch_size=Batch_size, shuffle=True)\n",
    "\n",
    "print(type(training_data.data), type(training_data.targets))\n",
    "print(type(test_data.data), type(test_data.targets))\n",
    "\n",
    "print(training_data.data.size(), training_data.targets.size())\n",
    "print(test_data.data.size(), test_data.targets.size())"
   ]
  },
  {
   "cell_type": "markdown",
   "metadata": {},
   "source": [
    "## ネットワークモデルの定義\n",
    "今回は畳み込み層が2層のニューラルネットワークを作る"
   ]
  },
  {
   "cell_type": "code",
   "execution_count": 4,
   "metadata": {},
   "outputs": [],
   "source": [
    "class CNN(nn.Module):\n",
    "    def __init__(self) -> None:\n",
    "        super().__init__()\n",
    "        self.conv1 = nn.Conv2d(1, 16, kernel_size=3, stride=1, padding=1)\n",
    "        self.conv2 = nn.Conv2d(16, 32, kernel_size=3, stride=1, padding=1)\n",
    "        # self.conv3 = nn.Conv2d(32, 64, kernel_size=3, stride=1, padding=1)\n",
    "        self.l1 = nn.Linear(7*7*32, 1024)\n",
    "        self.l2 = nn.Linear(1024, 1024)\n",
    "        self.l3 = nn.Linear(1024, 10)\n",
    "        self.act = nn.LeakyReLU()\n",
    "        self.pool = nn.MaxPool2d(2,2)\n",
    "    \n",
    "    def forward(self, x):\n",
    "        x = self.act(self.conv1(x))\n",
    "        x = self.pool(x)\n",
    "        x = self.act(self.conv2(x))\n",
    "        # x = self.act(self.conv3(x))\n",
    "        x = self.pool(x)\n",
    "        x = x.view(x.size()[0], -1)\n",
    "        x = self.act(self.l1(x))\n",
    "        x = self.act(self.l2(x))\n",
    "        x = self.l3(x)\n",
    "        return x"
   ]
  },
  {
   "cell_type": "code",
   "execution_count": 5,
   "metadata": {},
   "outputs": [
    {
     "name": "stdout",
     "output_type": "stream",
     "text": [
      "----------------------------------------------------------------\n",
      "        Layer (type)               Output Shape         Param #\n",
      "================================================================\n",
      "            Conv2d-1           [-1, 16, 28, 28]             160\n",
      "         LeakyReLU-2           [-1, 16, 28, 28]               0\n",
      "         MaxPool2d-3           [-1, 16, 14, 14]               0\n",
      "            Conv2d-4           [-1, 32, 14, 14]           4,640\n",
      "         LeakyReLU-5           [-1, 32, 14, 14]               0\n",
      "         MaxPool2d-6             [-1, 32, 7, 7]               0\n",
      "            Linear-7                 [-1, 1024]       1,606,656\n",
      "         LeakyReLU-8                 [-1, 1024]               0\n",
      "            Linear-9                 [-1, 1024]       1,049,600\n",
      "        LeakyReLU-10                 [-1, 1024]               0\n",
      "           Linear-11                   [-1, 10]          10,250\n",
      "================================================================\n",
      "Total params: 2,671,306\n",
      "Trainable params: 2,671,306\n",
      "Non-trainable params: 0\n",
      "----------------------------------------------------------------\n",
      "Input size (MB): 0.00\n",
      "Forward/backward pass size (MB): 0.35\n",
      "Params size (MB): 10.19\n",
      "Estimated Total Size (MB): 10.55\n",
      "----------------------------------------------------------------\n"
     ]
    }
   ],
   "source": [
    "### ネットワークの作成\n",
    "model = CNN()\n",
    "if use_cuda:      # GPUが使用できる場合は\n",
    "    model.cuda()  # ネットワークの演算をGPUで行うように設定変更 (デフォルトはCPU)\n",
    "\n",
    "### 最適化手法の設定 lr: 学習率, momentum: モーメンタム (慣性項のパラメータ)\n",
    "optimizer = torch.optim.SGD(model.parameters(), lr=0.01, momentum=0.9)\n",
    "\n",
    "### 定義したモデルの情報を表示\n",
    "if use_cuda:\n",
    "    torchsummary.summary(model, (1, 28, 28), device='cuda')  # GPUで演算する設定の場合\n",
    "else:\n",
    "    torchsummary.summary(model, (1, 28, 28), device='cpu')   # CPUで演算する設定の場合"
   ]
  },
  {
   "cell_type": "code",
   "execution_count": 7,
   "metadata": {},
   "outputs": [
    {
     "name": "stdout",
     "output_type": "stream",
     "text": [
      "epoch: 1, mean loss: 0.7917898512880007, mean accuracy: 0.7052333333333334, elapsed time: 12.665627717971802\n",
      "epoch: 2, mean loss: 0.43304053977131846, mean accuracy: 0.8395333333333334, elapsed time: 24.613927364349365\n",
      "epoch: 3, mean loss: 0.3550563307851553, mean accuracy: 0.869, elapsed time: 35.746363401412964\n",
      "epoch: 4, mean loss: 0.31744340280691785, mean accuracy: 0.8839833333333333, elapsed time: 48.257676124572754\n",
      "epoch: 5, mean loss: 0.291119020357728, mean accuracy: 0.8934166666666666, elapsed time: 59.29765176773071\n",
      "epoch: 6, mean loss: 0.2688307052354018, mean accuracy: 0.9005666666666666, elapsed time: 70.94287705421448\n",
      "epoch: 7, mean loss: 0.2546277601271868, mean accuracy: 0.9056666666666666, elapsed time: 82.27074980735779\n",
      "epoch: 8, mean loss: 0.2391986598695318, mean accuracy: 0.9115, elapsed time: 93.17793130874634\n",
      "epoch: 9, mean loss: 0.225967591603597, mean accuracy: 0.9156666666666666, elapsed time: 104.08190822601318\n",
      "epoch: 10, mean loss: 0.21382057761152584, mean accuracy: 0.9195833333333333, elapsed time: 115.31524205207825\n"
     ]
    }
   ],
   "source": [
    "epoch_num=10# 誤差関数の設定 (必要に応じて誤差関数の計算もGPUで行うように設定変更)\n",
    "criterion = nn.CrossEntropyLoss()\n",
    "if use_cuda:\n",
    "    criterion.cuda()\n",
    "\n",
    "# ネットワークを学習モードへ変更\n",
    "model.train()\n",
    "\n",
    "# 学習の実行\n",
    "train_start = time()\n",
    "for epoch in range(1, epoch_num+1):   # epochのforループ\n",
    "    # 1 epochの学習中の誤差・学習画像が正解した数をカウントする変数を初期化\n",
    "    sum_loss = 0.0\n",
    "    count = 0\n",
    "\n",
    "    for image, label in train_dataloader:  # 1 epoch内のforループ (iterationのループ)\n",
    "\n",
    "        if use_cuda:  # GPUで計算する場合は，データもGPUメモリ上へ移動させる\n",
    "            image = image.cuda()\n",
    "            label = label.cuda()\n",
    "\n",
    "        y = model(image)  # データの入力と結果の出力\n",
    "\n",
    "        # 誤差計算とbackpropagation, パラメータの更新\n",
    "        loss = criterion(y, label)\n",
    "        model.zero_grad()\n",
    "        loss.backward()\n",
    "        optimizer.step()\n",
    "\n",
    "        # 学習経過を確認するための処理\n",
    "        sum_loss += loss.item()\n",
    "        pred = torch.argmax(y, dim=1)\n",
    "        count += torch.sum(pred == label)\n",
    "\n",
    "    # 1 epoch終了時点での誤差の平均値，学習データに対する認識精度, 学習開始からの経過時間を表示\n",
    "    print(\"epoch: {}, mean loss: {}, mean accuracy: {}, elapsed time: {}\".format(epoch, sum_loss/len(train_dataloader), count.item()/len(training_data), time() - train_start))"
   ]
  }
 ],
 "metadata": {
  "kernelspec": {
   "display_name": "nn",
   "language": "python",
   "name": "python3"
  },
  "language_info": {
   "codemirror_mode": {
    "name": "ipython",
    "version": 3
   },
   "file_extension": ".py",
   "mimetype": "text/x-python",
   "name": "python",
   "nbconvert_exporter": "python",
   "pygments_lexer": "ipython3",
   "version": "3.10.6"
  },
  "orig_nbformat": 4
 },
 "nbformat": 4,
 "nbformat_minor": 2
}
