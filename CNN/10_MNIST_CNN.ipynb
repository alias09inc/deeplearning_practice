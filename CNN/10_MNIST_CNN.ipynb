{
  "cells": [
    {
      "cell_type": "markdown",
      "metadata": {
        "id": "xP6-w6Uxb6jR"
      },
      "source": [
        "# CNNによる画像認識（MNIST, PyTorch実装）\n",
        "\n",
        "\n",
        "---\n",
        "## 目的\n",
        "PyTorch実装による畳み込みニューラルネットワーク（CNN）を用いてMNISTデータセットに対する文字認識を行う．\n",
        "評価はConfusion Matrixにより各クラスの認識率を用いて行う．\n",
        "\n",
        "また，GPUを用いたネットワークの計算を行う．"
      ]
    },
    {
      "cell_type": "markdown",
      "metadata": {
        "id": "5rQGfxWYK_4O"
      },
      "source": [
        "## 準備\n",
        "\n",
        "### Google Colaboratoryの設定確認・変更\n",
        "本チュートリアルではPyTorchを利用してニューラルネットワークの実装を確認，学習および評価を行います．\n",
        "**GPUを用いて処理を行うために，上部のメニューバーの「ランタイム」→「ランタイムのタイプを変更」からハードウェアアクセラレータをGPUにしてください．**"
      ]
    },
    {
      "cell_type": "markdown",
      "metadata": {
        "id": "RsGSLNkYQmkG"
      },
      "source": [
        "## モジュールのインポート\n",
        "はじめに必要なモジュールをインポートする．"
      ]
    },
    {
      "cell_type": "code",
      "execution_count": 1,
      "metadata": {
        "id": "SLeGt2xaNFOB"
      },
      "outputs": [],
      "source": [
        "from time import time   # 時間計測を行うモジュール\n",
        "\n",
        "import numpy as np      # Pythonで配列を扱うためのモジュール\n",
        "import torch            # 深層学習のモジュール（PyTorch）\n",
        "import torch.nn as nn\n",
        "\n",
        "import torchvision      # PyTorchで画像認識に使用するネットワークやデータセットを利用するためのモジュール\n",
        "import torchvision.transforms as transforms\n",
        "\n",
        "import torchsummary     # PyTorchで作成したネットワークモデルの詳細を表示するモジュール"
      ]
    },
    {
      "cell_type": "markdown",
      "metadata": {
        "id": "FjrYHYpuLbrx"
      },
      "source": [
        "### GPUの確認\n",
        "GPUを使用した計算が可能かどうかを確認します．\n",
        "\n",
        "`Use CUDA: True`と表示されれば，GPUを使用した計算をPyTorchで行うことが可能です．\n",
        "Falseとなっている場合は，上記の「Google Colaboratoryの設定確認・変更」に記載している手順にしたがって，設定を変更した後に，モジュールのインポートから始めてください．"
      ]
    },
    {
      "cell_type": "code",
      "execution_count": 2,
      "metadata": {
        "colab": {
          "base_uri": "https://localhost:8080/"
        },
        "id": "6wYHKJ-WLbry",
        "outputId": "32257f1a-3a96-406c-bf8a-f4baf70f0a9c"
      },
      "outputs": [
        {
          "name": "stdout",
          "output_type": "stream",
          "text": [
            "Use CUDA: True\n"
          ]
        }
      ],
      "source": [
        "use_cuda = torch.cuda.is_available()\n",
        "print('Use CUDA:', use_cuda)"
      ]
    },
    {
      "cell_type": "markdown",
      "metadata": {
        "id": "Ue60y-upamyo"
      },
      "source": [
        "## データセットの読み込みと確認\n",
        "学習データ（MNIST Dataset）を読み込みます．"
      ]
    },
    {
      "cell_type": "code",
      "execution_count": 3,
      "metadata": {
        "colab": {
          "base_uri": "https://localhost:8080/"
        },
        "id": "n7zpMk-4axYm",
        "outputId": "be2246f2-c411-4ccb-a04f-a4272c5d6b5b"
      },
      "outputs": [
        {
          "name": "stdout",
          "output_type": "stream",
          "text": [
            "<class 'torch.Tensor'> <class 'torch.Tensor'>\n",
            "<class 'torch.Tensor'> <class 'torch.Tensor'>\n",
            "torch.Size([60000, 28, 28]) torch.Size([60000])\n",
            "torch.Size([10000, 28, 28]) torch.Size([10000])\n"
          ]
        }
      ],
      "source": [
        "train_data = torchvision.datasets.MNIST(root=\"../data\", train=True, transform=transforms.ToTensor(), download=True)\n",
        "test_data = torchvision.datasets.MNIST(root=\"../data\", train=False, transform=transforms.ToTensor(), download=True)\n",
        "\n",
        "### 読み込んだデータの情報を表示して確認してみます\n",
        "# 画像・ラベルデータのデータタイプ（型）\n",
        "print(type(train_data.data), type(train_data.targets))\n",
        "print(type(test_data.data), type(test_data.targets))\n",
        "# 画像・ラベルの配列サイズ\n",
        "print(train_data.data.size(), train_data.targets.size())\n",
        "print(test_data.data.size(), test_data.targets.size())"
      ]
    },
    {
      "cell_type": "markdown",
      "metadata": {
        "id": "G418kZOgToXR"
      },
      "source": [
        "## ネットワークモデルの定義\n",
        "\n",
        "畳み込みニューラルネットワークを定義します．\n",
        "\n",
        "ここでは，畳み込み層２層，全結合層３層から構成されるネットワークとします．\n",
        "\n",
        "1層目の畳み込み層は入力チャンネル数が1，出力する特徴マップ数が16，畳み込むフィルタサイズが3x3です．\n",
        "2層目の畳み込み層は入力チャネル数が16．出力する特徴マップ数が32，畳み込むフィルタサイズは同じく3x3です．\n",
        "１つ目の全結合層は入力ユニット数は`7*7*32`とし，出力は1024としています．\n",
        "次の全結合層入力，出力共に1024，出力層は入力が1024，出力が10です．\n",
        "また，活性化関数として`self.act`にシグモイド関数を定義します．\n",
        "さらに，プーリング処理を行うための`self.pool`を定義します．\n",
        "ここでは，maxpoolingを使用します．\n",
        "これらの各層の構成を`__init__`関数で定義します．\n",
        "\n",
        "次に，`forward`関数では，定義した層を接続して処理するように記述します．\n",
        "`forward`関数の引数`x`は入力データです．\n",
        "それを`__init__`関数で定義した`conv1`に入力し，その出力を活性化関数である`self.act`に与えます．\n",
        "そして，その出力を`self.pool`に与えて，プーリング処理結果を`h`として出力します．\n",
        "2層目の畳み込み層でも同様の手順で処理を行います．\n",
        "\n",
        "畳み込みを適用した後の特徴マップを全結合層へと入力して，識別結果を出力します．\n",
        "まず．畳み込みによって得られた特徴マップの形状（チャンネルx縦x横）を1次元の配列へと変換します．\n",
        "ここで，`view()`を用いることで，`h`の配列を操作します．引数として，変換したい配列のサイズを入力します．\n",
        "まず一つ目の引数の`h.size()[0]`で，`h`の1次元目のサイズを取得し，変換後の配列の1次元目のサイズとして指定します．\n",
        "二つ目の引数の`-1`で任意のサイズを指定します．\n",
        "これにより，`h`を（バッチ数x任意の長さのデータ）の形状へ変換します．\n",
        "変換した`h`を全結合層および活性化関数へと順次入力することで，最終的にクラススコアを返します．"
      ]
    },
    {
      "cell_type": "code",
      "execution_count": 4,
      "metadata": {
        "id": "8FJhkBJnTuPd"
      },
      "outputs": [],
      "source": [
        "class CNN(nn.Module):\n",
        "    def __init__(self):\n",
        "        super().__init__()\n",
        "        self.conv1 = nn.Conv2d(1, 16, kernel_size=3, stride=1, padding=1)\n",
        "        self.conv2 = nn.Conv2d(16, 32, kernel_size=3, stride=1, padding=1)\n",
        "        self.l1 = nn.Linear(7*7*32, 1024)\n",
        "        self.l2 = nn.Linear(1024, 1024)\n",
        "        self.l3 = nn.Linear(1024, 10)\n",
        "        self.act = nn.ReLU()\n",
        "        self.pool = nn.MaxPool2d(2, 2)\n",
        "\n",
        "    def forward(self, x):                       # 入力画像サイズ: [batch, 1, 28, 28]\n",
        "        h = self.pool(self.act(self.conv1(x)))  # 出力される特徴マップサイズ: [batch, 16, 14, 14]\n",
        "        h = self.pool(self.act(self.conv2(h)))  # 出力される特徴マップサイズ: [batch, 32, 7, 7]\n",
        "        # 特徴マップの配列サイズを [batch, channel, height, width] --> [batch, channel * height * width] に変更\n",
        "        h = h.view(h.size()[0], -1)\n",
        "        h = self.act(self.l1(h))\n",
        "        h = self.act(self.l2(h))\n",
        "        h = self.l3(h)\n",
        "        return h"
      ]
    },
    {
      "cell_type": "markdown",
      "metadata": {
        "id": "ijVjOGVhb6vs"
      },
      "source": [
        "## ネットワークの作成\n",
        "上のプログラムで定義したネットワークを作成します．\n",
        "\n",
        "`CNN`クラスを呼び出して，ネットワークモデルを定義します．\n",
        "また，GPUを使う場合（`use_cuda == True`）には，ネットワークモデルをGPUメモリ上に配置します．\n",
        "これにより，GPUを用いた演算が可能となります．\n",
        "\n",
        "学習を行う際の最適化方法としてモーメンタムSGD(モーメンタム付き確率的勾配降下法）を利用します．\n",
        "また，学習率を0.01，モーメンタムを0.9として引数に与えます．\n",
        "\n",
        "最後に，定義したネットワークの詳細情報を`torchsummary.summary()`関数を用いて表示します．"
      ]
    },
    {
      "cell_type": "code",
      "execution_count": 5,
      "metadata": {
        "colab": {
          "base_uri": "https://localhost:8080/"
        },
        "id": "SyfYfpXvb62g",
        "outputId": "3eb2d2eb-e7a4-42ba-ba2d-4648385d2762"
      },
      "outputs": [
        {
          "name": "stdout",
          "output_type": "stream",
          "text": [
            "----------------------------------------------------------------\n",
            "        Layer (type)               Output Shape         Param #\n",
            "================================================================\n",
            "            Conv2d-1           [-1, 16, 28, 28]             160\n",
            "              ReLU-2           [-1, 16, 28, 28]               0\n",
            "         MaxPool2d-3           [-1, 16, 14, 14]               0\n",
            "            Conv2d-4           [-1, 32, 14, 14]           4,640\n",
            "              ReLU-5           [-1, 32, 14, 14]               0\n",
            "         MaxPool2d-6             [-1, 32, 7, 7]               0\n",
            "            Linear-7                 [-1, 1024]       1,606,656\n",
            "              ReLU-8                 [-1, 1024]               0\n",
            "            Linear-9                 [-1, 1024]       1,049,600\n",
            "             ReLU-10                 [-1, 1024]               0\n",
            "           Linear-11                   [-1, 10]          10,250\n",
            "================================================================\n",
            "Total params: 2,671,306\n",
            "Trainable params: 2,671,306\n",
            "Non-trainable params: 0\n",
            "----------------------------------------------------------------\n",
            "Input size (MB): 0.00\n",
            "Forward/backward pass size (MB): 0.35\n",
            "Params size (MB): 10.19\n",
            "Estimated Total Size (MB): 10.55\n",
            "----------------------------------------------------------------\n"
          ]
        }
      ],
      "source": [
        "### ネットワークの作成\n",
        "model = CNN()\n",
        "if use_cuda:      # GPUが使用できる場合は\n",
        "    model.cuda()  # ネットワークの演算をGPUで行うように設定変更 (デフォルトはCPU)\n",
        "\n",
        "### 最適化手法の設定 lr: 学習率, momentum: モーメンタム (慣性項のパラメータ)\n",
        "optimizer = torch.optim.SGD(model.parameters(), lr=0.01, momentum=0.9)\n",
        "\n",
        "### 定義したモデルの情報を表示\n",
        "if use_cuda:\n",
        "    torchsummary.summary(model, (1, 28, 28), device='cuda')  # GPUで演算する設定の場合\n",
        "else:\n",
        "    torchsummary.summary(model, (1, 28, 28), device='cpu')   # CPUで演算する設定の場合"
      ]
    },
    {
      "cell_type": "markdown",
      "metadata": {
        "id": "lhbw4THgb680"
      },
      "source": [
        "## 学習\n",
        "読み込んだMNISTデータセットと作成したネットワークを用いて，学習を行います．\n",
        "\n",
        "1回の誤差を算出するデータ数（ミニバッチサイズ）を100，学習エポック数を10とします．\n",
        "\n",
        "次にデータローダーを定義します．\n",
        "データローダーでは，上で読み込んだデータセット（`train_data`）を用いて，for文で指定したミニバッチサイズでデータを読み込むオブジェクトを作成します．\n",
        "この時，`shuffle=True`と設定することで，読み込むデータを毎回ランダムに指定します．\n",
        "\n",
        "次に，誤差関数を設定します．\n",
        "今回は，分類問題をあつかうため，クロスエントロピー誤差を計算するための`CrossEntropyLoss`を`criterion`として定義します．\n",
        "\n",
        "学習を開始します．\n",
        "\n",
        "各更新において，学習用データと教師データをそれぞれ`image`と`label`とします．\n",
        "学習モデルにimageを与えて各クラスの確率yを取得します．\n",
        "各クラスの確率yと教師ラベルtとの誤差を`criterion`で算出します．\n",
        "また，認識精度も算出します．\n",
        "そして，誤差をbackward関数で逆伝播し，ネットワークの更新を行います．"
      ]
    },
    {
      "cell_type": "code",
      "execution_count": 8,
      "metadata": {
        "colab": {
          "base_uri": "https://localhost:8080/"
        },
        "id": "UsBaxg2Wb7Dp",
        "outputId": "1cf96073-26e8-4e8a-93d0-f11c43cac0dd"
      },
      "outputs": [
        {
          "ename": "KeyboardInterrupt",
          "evalue": "",
          "output_type": "error",
          "traceback": [
            "\u001b[0;31m---------------------------------------------------------------------------\u001b[0m",
            "\u001b[0;31mKeyboardInterrupt\u001b[0m                         Traceback (most recent call last)",
            "Cell \u001b[0;32mIn[8], line 35\u001b[0m\n\u001b[1;32m     33\u001b[0m model\u001b[39m.\u001b[39mzero_grad()\n\u001b[1;32m     34\u001b[0m loss\u001b[39m.\u001b[39mbackward()\n\u001b[0;32m---> 35\u001b[0m optimizer\u001b[39m.\u001b[39;49mstep()\n\u001b[1;32m     37\u001b[0m \u001b[39m# 学習経過を確認するための処理\u001b[39;00m\n\u001b[1;32m     38\u001b[0m sum_loss \u001b[39m+\u001b[39m\u001b[39m=\u001b[39m loss\u001b[39m.\u001b[39mitem()\n",
            "File \u001b[0;32m~/deeplearning_practice/nn/lib/python3.10/site-packages/torch/optim/optimizer.py:280\u001b[0m, in \u001b[0;36mOptimizer.profile_hook_step.<locals>.wrapper\u001b[0;34m(*args, **kwargs)\u001b[0m\n\u001b[1;32m    276\u001b[0m         \u001b[39melse\u001b[39;00m:\n\u001b[1;32m    277\u001b[0m             \u001b[39mraise\u001b[39;00m \u001b[39mRuntimeError\u001b[39;00m(\u001b[39mf\u001b[39m\u001b[39m\"\u001b[39m\u001b[39m{\u001b[39;00mfunc\u001b[39m}\u001b[39;00m\u001b[39m must return None or a tuple of (new_args, new_kwargs),\u001b[39m\u001b[39m\"\u001b[39m\n\u001b[1;32m    278\u001b[0m                                \u001b[39mf\u001b[39m\u001b[39m\"\u001b[39m\u001b[39mbut got \u001b[39m\u001b[39m{\u001b[39;00mresult\u001b[39m}\u001b[39;00m\u001b[39m.\u001b[39m\u001b[39m\"\u001b[39m)\n\u001b[0;32m--> 280\u001b[0m out \u001b[39m=\u001b[39m func(\u001b[39m*\u001b[39;49margs, \u001b[39m*\u001b[39;49m\u001b[39m*\u001b[39;49mkwargs)\n\u001b[1;32m    281\u001b[0m \u001b[39mself\u001b[39m\u001b[39m.\u001b[39m_optimizer_step_code()\n\u001b[1;32m    283\u001b[0m \u001b[39m# call optimizer step post hooks\u001b[39;00m\n",
            "File \u001b[0;32m~/deeplearning_practice/nn/lib/python3.10/site-packages/torch/optim/optimizer.py:33\u001b[0m, in \u001b[0;36m_use_grad_for_differentiable.<locals>._use_grad\u001b[0;34m(self, *args, **kwargs)\u001b[0m\n\u001b[1;32m     31\u001b[0m \u001b[39mtry\u001b[39;00m:\n\u001b[1;32m     32\u001b[0m     torch\u001b[39m.\u001b[39mset_grad_enabled(\u001b[39mself\u001b[39m\u001b[39m.\u001b[39mdefaults[\u001b[39m'\u001b[39m\u001b[39mdifferentiable\u001b[39m\u001b[39m'\u001b[39m])\n\u001b[0;32m---> 33\u001b[0m     ret \u001b[39m=\u001b[39m func(\u001b[39mself\u001b[39;49m, \u001b[39m*\u001b[39;49margs, \u001b[39m*\u001b[39;49m\u001b[39m*\u001b[39;49mkwargs)\n\u001b[1;32m     34\u001b[0m \u001b[39mfinally\u001b[39;00m:\n\u001b[1;32m     35\u001b[0m     torch\u001b[39m.\u001b[39mset_grad_enabled(prev_grad)\n",
            "File \u001b[0;32m~/deeplearning_practice/nn/lib/python3.10/site-packages/torch/optim/sgd.py:76\u001b[0m, in \u001b[0;36mSGD.step\u001b[0;34m(self, closure)\u001b[0m\n\u001b[1;32m     72\u001b[0m momentum_buffer_list \u001b[39m=\u001b[39m []\n\u001b[1;32m     74\u001b[0m has_sparse_grad \u001b[39m=\u001b[39m \u001b[39mself\u001b[39m\u001b[39m.\u001b[39m_init_group(group, params_with_grad, d_p_list, momentum_buffer_list)\n\u001b[0;32m---> 76\u001b[0m sgd(params_with_grad,\n\u001b[1;32m     77\u001b[0m     d_p_list,\n\u001b[1;32m     78\u001b[0m     momentum_buffer_list,\n\u001b[1;32m     79\u001b[0m     weight_decay\u001b[39m=\u001b[39;49mgroup[\u001b[39m'\u001b[39;49m\u001b[39mweight_decay\u001b[39;49m\u001b[39m'\u001b[39;49m],\n\u001b[1;32m     80\u001b[0m     momentum\u001b[39m=\u001b[39;49mgroup[\u001b[39m'\u001b[39;49m\u001b[39mmomentum\u001b[39;49m\u001b[39m'\u001b[39;49m],\n\u001b[1;32m     81\u001b[0m     lr\u001b[39m=\u001b[39;49mgroup[\u001b[39m'\u001b[39;49m\u001b[39mlr\u001b[39;49m\u001b[39m'\u001b[39;49m],\n\u001b[1;32m     82\u001b[0m     dampening\u001b[39m=\u001b[39;49mgroup[\u001b[39m'\u001b[39;49m\u001b[39mdampening\u001b[39;49m\u001b[39m'\u001b[39;49m],\n\u001b[1;32m     83\u001b[0m     nesterov\u001b[39m=\u001b[39;49mgroup[\u001b[39m'\u001b[39;49m\u001b[39mnesterov\u001b[39;49m\u001b[39m'\u001b[39;49m],\n\u001b[1;32m     84\u001b[0m     maximize\u001b[39m=\u001b[39;49mgroup[\u001b[39m'\u001b[39;49m\u001b[39mmaximize\u001b[39;49m\u001b[39m'\u001b[39;49m],\n\u001b[1;32m     85\u001b[0m     has_sparse_grad\u001b[39m=\u001b[39;49mhas_sparse_grad,\n\u001b[1;32m     86\u001b[0m     foreach\u001b[39m=\u001b[39;49mgroup[\u001b[39m'\u001b[39;49m\u001b[39mforeach\u001b[39;49m\u001b[39m'\u001b[39;49m])\n\u001b[1;32m     88\u001b[0m \u001b[39m# update momentum_buffers in state\u001b[39;00m\n\u001b[1;32m     89\u001b[0m \u001b[39mfor\u001b[39;00m p, momentum_buffer \u001b[39min\u001b[39;00m \u001b[39mzip\u001b[39m(params_with_grad, momentum_buffer_list):\n",
            "File \u001b[0;32m~/deeplearning_practice/nn/lib/python3.10/site-packages/torch/optim/sgd.py:222\u001b[0m, in \u001b[0;36msgd\u001b[0;34m(params, d_p_list, momentum_buffer_list, has_sparse_grad, foreach, weight_decay, momentum, lr, dampening, nesterov, maximize)\u001b[0m\n\u001b[1;32m    219\u001b[0m \u001b[39melse\u001b[39;00m:\n\u001b[1;32m    220\u001b[0m     func \u001b[39m=\u001b[39m _single_tensor_sgd\n\u001b[0;32m--> 222\u001b[0m func(params,\n\u001b[1;32m    223\u001b[0m      d_p_list,\n\u001b[1;32m    224\u001b[0m      momentum_buffer_list,\n\u001b[1;32m    225\u001b[0m      weight_decay\u001b[39m=\u001b[39;49mweight_decay,\n\u001b[1;32m    226\u001b[0m      momentum\u001b[39m=\u001b[39;49mmomentum,\n\u001b[1;32m    227\u001b[0m      lr\u001b[39m=\u001b[39;49mlr,\n\u001b[1;32m    228\u001b[0m      dampening\u001b[39m=\u001b[39;49mdampening,\n\u001b[1;32m    229\u001b[0m      nesterov\u001b[39m=\u001b[39;49mnesterov,\n\u001b[1;32m    230\u001b[0m      has_sparse_grad\u001b[39m=\u001b[39;49mhas_sparse_grad,\n\u001b[1;32m    231\u001b[0m      maximize\u001b[39m=\u001b[39;49mmaximize)\n",
            "File \u001b[0;32m~/deeplearning_practice/nn/lib/python3.10/site-packages/torch/optim/sgd.py:305\u001b[0m, in \u001b[0;36m_multi_tensor_sgd\u001b[0;34m(params, grads, momentum_buffer_list, weight_decay, momentum, lr, dampening, nesterov, maximize, has_sparse_grad)\u001b[0m\n\u001b[1;32m    302\u001b[0m         bufs\u001b[39m.\u001b[39mappend(device_momentum_buffer_list[i])\n\u001b[1;32m    304\u001b[0m \u001b[39mif\u001b[39;00m all_states_with_momentum_buffer:\n\u001b[0;32m--> 305\u001b[0m     torch\u001b[39m.\u001b[39;49m_foreach_mul_(bufs, momentum)\n\u001b[1;32m    306\u001b[0m     torch\u001b[39m.\u001b[39m_foreach_add_(bufs, device_grads, alpha\u001b[39m=\u001b[39m\u001b[39m1\u001b[39m \u001b[39m-\u001b[39m dampening)\n\u001b[1;32m    307\u001b[0m \u001b[39melse\u001b[39;00m:\n",
            "\u001b[0;31mKeyboardInterrupt\u001b[0m: "
          ]
        }
      ],
      "source": [
        "# ミニバッチサイズ・エポック数の設定\n",
        "batch_size = 100\n",
        "epoch_num = 10\n",
        "\n",
        "# データローダーの設定\n",
        "train_loader = torch.utils.data.DataLoader(train_data, batch_size=batch_size, shuffle=True)\n",
        "\n",
        "# 誤差関数の設定 (必要に応じて誤差関数の計算もGPUで行うように設定変更)\n",
        "criterion = nn.CrossEntropyLoss()\n",
        "if use_cuda:\n",
        "    criterion.cuda()\n",
        "\n",
        "# ネットワークを学習モードへ変更\n",
        "model.train()\n",
        "\n",
        "# 学習の実行\n",
        "train_start = time()\n",
        "for epoch in range(1, epoch_num+1):   # epochのforループ\n",
        "    # 1 epochの学習中の誤差・学習画像が正解した数をカウントする変数を初期化\n",
        "    sum_loss = 0.0\n",
        "    count = 0\n",
        "\n",
        "    for image, label in train_loader:  # 1 epoch内のforループ (iterationのループ)\n",
        "\n",
        "        if use_cuda:  # GPUで計算する場合は，データもGPUメモリ上へ移動させる\n",
        "            image = image.cuda()\n",
        "            label = label.cuda()\n",
        "\n",
        "        y = model(image)  # データの入力と結果の出力\n",
        "\n",
        "        # 誤差計算とbackpropagation, パラメータの更新\n",
        "        loss = criterion(y, label)\n",
        "        model.zero_grad()\n",
        "        loss.backward()\n",
        "        optimizer.step()\n",
        "\n",
        "        # 学習経過を確認するための処理\n",
        "        sum_loss += loss.item()\n",
        "        pred = torch.argmax(y, dim=1)\n",
        "        count += torch.sum(pred == label)\n",
        "\n",
        "    # 1 epoch終了時点での誤差の平均値，学習データに対する認識精度, 学習開始からの経過時間を表示\n",
        "    print(\"epoch: {}, mean loss: {}, mean accuracy: {}, elapsed time: {}\".format(epoch, sum_loss/len(train_loader), count.item()/len(train_data), time() - train_start))"
      ]
    },
    {
      "cell_type": "markdown",
      "metadata": {
        "id": "f5oxc_C-b6g9"
      },
      "source": [
        "## テスト\n",
        "\n",
        "学習したネットワークを用いて，テストデータに対する認識率の確認を行います．\n",
        "\n",
        "`model.eval()`を適用することで，ネットワーク演算を評価モードへ変更します．\n",
        "これにより，学習時と評価時で挙動が異なる演算（dropout等）を変更することが可能です．\n",
        "また，`torch.no_grad()`を適用することで，学習時には必要になる勾配情報を保持することなく演算を行います．"
      ]
    },
    {
      "cell_type": "code",
      "execution_count": 7,
      "metadata": {
        "colab": {
          "base_uri": "https://localhost:8080/"
        },
        "id": "eDwQ-iJtjSaL",
        "outputId": "e609bb92-b6a4-478f-b690-c7bbf5d6cc10"
      },
      "outputs": [
        {
          "name": "stdout",
          "output_type": "stream",
          "text": [
            "test accuracy: 0.9892\n"
          ]
        }
      ],
      "source": [
        "# データローダーの準備\n",
        "test_loader = torch.utils.data.DataLoader(test_data, batch_size=100, shuffle=False)\n",
        "\n",
        "# ネットワークを評価モードへ変更\n",
        "model.eval()\n",
        "\n",
        "# 評価の実行\n",
        "count = 0\n",
        "with torch.no_grad():  # 勾配を計算しない設定にする (loss.backwardをしても勾配情報が計算されない)\n",
        "    for image, label in test_loader:\n",
        "\n",
        "        if use_cuda:\n",
        "            image = image.cuda()\n",
        "            label = label.cuda()\n",
        "\n",
        "        y = model(image)\n",
        "\n",
        "        pred = torch.argmax(y, dim=1)\n",
        "        count += torch.sum(pred == label)\n",
        "\n",
        "print(\"test accuracy: {}\".format(count.item() / 10000.))"
      ]
    },
    {
      "cell_type": "markdown",
      "metadata": {
        "id": "RO9gksBuj0qm"
      },
      "source": [
        "## 課題\n",
        "\n",
        "\n",
        "### 1. GPUを用いた場合とCPUを用いた場合の学習での計算時間の違いを確認しましょう．\n",
        "\n",
        "**ヒント**\n",
        "\n",
        "GPUとCPUの切り替えは「GPUの確認」というセル（本ページ上部）にある`use_cuda`の`True`, `False`を変更することで，切り替えが可能です．\n",
        "\n",
        "\n",
        "### 2. ネットワークの構造を変更し，認識精度の変化を確認しましょう．\n",
        "\n",
        "**ヒント：ネットワーク構造の変更としては，次のようなものが考えられます．**\n",
        "* 中間層のユニット数\n",
        "* 層の数\n",
        "* 活性化関数\n",
        "  * `nn.Tanh()`や`nn.ReLU()`, `nn.LeakyReLU()`などが考えられます．\n",
        "  * その他のPyTorchで使用できる活性化関数は[こちらページ](https://pytorch.org/docs/stable/nn.html#non-linear-activations-weighted-sum-nonlinearity)にまとめられています．\n",
        "\n",
        "※ ネットワーク構造を変更した際には，`torchsummary.summary(***)`を使用し，ネットワーク構造を変更した際のパラメータ数の変化を確認してみましょう．\n",
        "\n",
        "\n",
        "### 3. 学習の設定を変更し，認識精度の変化を確認しましょう．\n",
        "\n",
        "**ヒント：プログラムの中で変更で切る設定は次のようなものが存在します．**\n",
        "* ミニバッチサイズ\n",
        "* 学習回数（Epoch数）\n",
        "* 学習率\n",
        "* 最適化手法\n",
        "  * `torch.optim.Adagrad()`や`torch.optim.Adam()`などが考えられます．\n",
        "  * PyTorchで使用できる最適化手法は[こちらのページ](https://pytorch.org/docs/stable/optim.html#algorithms)にまとめられています．\n",
        "\n"
      ]
    }
  ],
  "metadata": {
    "accelerator": "GPU",
    "colab": {
      "name": "10_MNIST_CNN.ipynb",
      "provenance": []
    },
    "gpuClass": "standard",
    "kernelspec": {
      "display_name": "Python 3",
      "language": "python",
      "name": "python3"
    },
    "language_info": {
      "codemirror_mode": {
        "name": "ipython",
        "version": 3
      },
      "file_extension": ".py",
      "mimetype": "text/x-python",
      "name": "python",
      "nbconvert_exporter": "python",
      "pygments_lexer": "ipython3",
      "version": "3.10.6"
    }
  },
  "nbformat": 4,
  "nbformat_minor": 0
}
